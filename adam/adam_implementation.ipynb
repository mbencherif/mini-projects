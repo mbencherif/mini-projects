{
 "cells": [
  {
   "cell_type": "markdown",
   "metadata": {},
   "source": [
    "# Implementation of ADAM\n",
    "\n",
    "This method computes individual adaptive learning rates for different parameters from estimates of first and second moments of the gradients; the name Adam is derived from adaptive moment estimation. The method is designed to combine the advantages of two recently popular methods: AdaGrad (Duchi et al., 2011), which works well with sparse gradients, and RMSProp (Tieleman & Hinton, 2012), which works well in on-line and non-stationary\n",
    "settings. Some of Adam’s advantages are that the magnitudes of parameter updates are invariant to rescaling of the gradient, its stepsizes are approximately bounded by the stepsize hyperparameter, it does not require a stationary objective, it works with sparse gradients, and it naturally performs a form of step size annealing. [arXiv:1412.6980]"
   ]
  },
  {
   "cell_type": "code",
   "execution_count": 1,
   "metadata": {
    "collapsed": true
   },
   "outputs": [],
   "source": [
    "%matplotlib inline\n",
    "import numpy as np\n",
    "import math\n",
    "import matplotlib.pyplot as plt"
   ]
  },
  {
   "cell_type": "markdown",
   "metadata": {},
   "source": [
    "As a simple example, let us find a local minimum for the function $f(x) = x^3-2x^2+2$"
   ]
  },
  {
   "cell_type": "code",
   "execution_count": 2,
   "metadata": {
    "collapsed": true
   },
   "outputs": [],
   "source": [
    "f = lambda x: x**3-2*x**2+2"
   ]
  },
  {
   "cell_type": "code",
   "execution_count": 3,
   "metadata": {},
   "outputs": [
    {
     "data": {
      "image/png": "[encoded data removed]",
      "text/plain": [
       "<matplotlib.figure.Figure at 0x7fca1a019c10>"
      ]
     },
     "metadata": {},
     "output_type": "display_data"
    }
   ],
   "source": [
    "x = np.linspace(-1,2.5,1000)\n",
    "plt.plot(x,f(x))\n",
    "plt.xlim([-1,2.5])\n",
    "plt.ylim([0,3])\n",
    "plt.show()"
   ]
  },
  {
   "cell_type": "markdown",
   "metadata": {},
   "source": [
    "We can see from plot above that our local minimum is gonna be near around 1.4 or 1.5 (on the x-axis), but let's pretend that we don't know that, so we set our starting point (arbitrarily, in this case) at $x_0 = 2$"
   ]
  },
  {
   "cell_type": "code",
   "execution_count": 4,
   "metadata": {
    "collapsed": true
   },
   "outputs": [],
   "source": [
    "# returns the value of the derivative of our function\n",
    "def f_prime(x):\n",
    "    return 3*x**2-4*x"
   ]
  },
  {
   "cell_type": "markdown",
   "metadata": {},
   "source": [
    "Reference for algorithm: https://arxiv.org/pdf/1412.6980.pdf\n",
    "\n",
    "Algorithm 1: Adam, our proposed algorithm for stochastic optimization. \n",
    "\n",
    "Good default settings for the tested machine learning problems are $\\alpha = 0.001$,\n",
    "$\\beta_1 = 0.9$, $\\beta_2 = 0.999$ and $\\epsilon = 10^{-8}$\n"
   ]
  },
  {
   "cell_type": "code",
   "execution_count": 5,
   "metadata": {
    "collapsed": true
   },
   "outputs": [],
   "source": [
    "# to avoid division by zero, we choose epsilon as   .\n",
    "epsilon = 10**-8\n",
    "# learning rate\n",
    "alpha = 0.1\n",
    "# exponential decay rates\n",
    "b1 = 0.9\n",
    "b2 = 0.999"
   ]
  },
  {
   "cell_type": "code",
   "execution_count": 6,
   "metadata": {
    "collapsed": true
   },
   "outputs": [],
   "source": [
    "# set precision\n",
    "precision = 0.0001\n",
    "# make lists for plotting ADAM\n",
    "new_x = 2 # The algorithm starts at x=2\n",
    "x_list, y_list = [np.array([new_x])], [f(new_x)]"
   ]
  },
  {
   "cell_type": "code",
   "execution_count": 7,
   "metadata": {},
   "outputs": [],
   "source": [
    "x = new_x\n",
    "\n",
    "#initalize m, v, t to zero\n",
    "m = 0\n",
    "v = 0\n",
    "t = 0\n",
    "# initialize sentinel to False\n",
    "converged = False\n",
    "# while the optimization algorithm has not yet converged\n",
    "while (not converged):\n",
    "    # time step increment by 1\n",
    "    t = t + 1\n",
    "    # determine the value of gradient\n",
    "    g = f_prime(x)\n",
    "    # calculate m \n",
    "    m = b1*m + ((1 - b1)*g)\n",
    "    # calculate v \n",
    "    v = b2*v + ((1 - b2)*(g**2))\n",
    "    # calculate m_hat\n",
    "    m_hat = m/(1 - b1**t)\n",
    "    # calculate v_hat\n",
    "    v_hat = v/(1 - b2**t)\n",
    "    # determine new_x\n",
    "    new_x = x - (alpha*m_hat/((v_hat**(1/2)) + epsilon))\n",
    "    # calculte convergence measure\n",
    "    if abs(new_x - x) <= precision:\n",
    "        converged = True\n",
    "    # set x to the new_x\n",
    "    x = new_x\n",
    "    x_list.append(new_x)\n",
    "    y_list.append(f(new_x))"
   ]
  },
  {
   "cell_type": "code",
   "execution_count": 9,
   "metadata": {},
   "outputs": [
    {
     "name": "stdout",
     "output_type": "stream",
     "text": [
      "Local minimum occurs at x = 1.33789407709 with f(x) = 0.814856510447\n",
      "Number of steps: 85\n"
     ]
    }
   ],
   "source": [
    "print \"Local minimum occurs at x =\", new_x, \"with f(x) =\", f(new_x)\n",
    "print \"Number of steps:\", len(x_list)"
   ]
  },
  {
   "cell_type": "code",
   "execution_count": 11,
   "metadata": {},
   "outputs": [
    {
     "data": {
      "image/png": "[encoded data removed]",
      "text/plain": [
       "<matplotlib.figure.Figure at 0x7fca19b34210>"
      ]
     },
     "metadata": {},
     "output_type": "display_data"
    }
   ],
   "source": [
    "# visualize the gradient descent\n",
    "plt.figure(figsize=[10,3])\n",
    "x = np.linspace(-1,2.5,1000)\n",
    "plt.plot(x,f(x))\n",
    "plt.xlim([-1,2.5])\n",
    "plt.ylim([0,3])\n",
    "plt.subplot(1,2,1)\n",
    "plt.scatter(x_list,y_list,c=\"r\")\n",
    "plt.plot(x_list,y_list,c=\"r\")\n",
    "plt.plot(x,f(x), c=\"b\")\n",
    "plt.xlim([-1,2.5])\n",
    "plt.ylim([0,3])\n",
    "plt.title(\"Gradient descent using ADAM\")\n",
    "plt.subplot(1,2,2)\n",
    "plt.scatter(x_list,y_list,c=\"r\")\n",
    "plt.plot(x_list,y_list,c=\"r\")\n",
    "plt.plot(x,f(x), c=\"b\")\n",
    "plt.xlim([1.2,1.7])\n",
    "plt.ylim([0,3])\n",
    "plt.title(\"Gradient descent using ADAM (zoomed in)\")\n",
    "plt.show()"
   ]
  }
 ],
 "metadata": {
  "kernelspec": {
   "display_name": "Python 2",
   "language": "python",
   "name": "python2"
  },
  "language_info": {
   "codemirror_mode": {
    "name": "ipython",
    "version": 2
   },
   "file_extension": ".py",
   "mimetype": "text/x-python",
   "name": "python",
   "nbconvert_exporter": "python",
   "pygments_lexer": "ipython2",
   "version": "2.7.13"
  }
 },
 "nbformat": 4,
 "nbformat_minor": 2
}
